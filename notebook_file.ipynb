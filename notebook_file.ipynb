{
 "cells": [
  {
   "cell_type": "code",
   "execution_count": 2,
   "metadata": {},
   "outputs": [
    {
     "name": "stdout",
     "output_type": "stream",
     "text": [
      "score: 1.0\n"
     ]
    }
   ],
   "source": [
    "import numpy as np\n",
    "data=np.loadtxt(\"C:/Users/Tarun Ahuja/Downloads/0000000000002329_training_diabetes_x_y_train.csv\",delimiter=\",\")\n",
    "X_train=data[:,0:10]\n",
    "Y_train=data[:,10]\n",
    "from sklearn.linear_model import LinearRegression\n",
    "alg1=LinearRegression()\n",
    "alg1.fit(X_train,Y_train)\n",
    "data1=np.loadtxt(\"C:/Users/Tarun Ahuja/Downloads/0000000000002329_test_diabetes_x_test.csv\",delimiter=\",\")\n",
    "X_test=data1\n",
    "Y_test=alg1.predict(X_test)\n",
    "score=alg1.score(X_test,Y_test)\n",
    "print(\"score:\",score)\n",
    "a=np.concatenate((X_test, Y_test.reshape(111,1)), axis=1)\n",
    "np.savetxt(\"C:/Users/Tarun Ahuja/Downloads/final.csv\", a, delimiter=\",\",fmt=\"%0.5f\")"
   ]
  },
  {
   "cell_type": "code",
   "execution_count": null,
   "metadata": {},
   "outputs": [],
   "source": []
  },
  {
   "cell_type": "code",
   "execution_count": null,
   "metadata": {},
   "outputs": [],
   "source": []
  }
 ],
 "metadata": {
  "kernelspec": {
   "display_name": "Python 3",
   "language": "python",
   "name": "python3"
  },
  "language_info": {
   "codemirror_mode": {
    "name": "ipython",
    "version": 3
   },
   "file_extension": ".py",
   "mimetype": "text/x-python",
   "name": "python",
   "nbconvert_exporter": "python",
   "pygments_lexer": "ipython3",
   "version": "3.7.1"
  }
 },
 "nbformat": 4,
 "nbformat_minor": 2
}
