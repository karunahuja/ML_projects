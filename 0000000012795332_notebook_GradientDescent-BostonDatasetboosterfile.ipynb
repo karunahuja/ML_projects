{
 "cells": [
  {
   "cell_type": "code",
   "execution_count": 3,
   "metadata": {},
   "outputs": [],
   "source": [
    "import numpy as np\n",
    "import pandas as pd\n",
    "import xgboost as xgb"
   ]
  },
  {
   "cell_type": "code",
   "execution_count": 7,
   "metadata": {},
   "outputs": [],
   "source": [
    "training_data = np.genfromtxt('C:\\\\Users\\\\KSHITIJ AGGARWAL\\\\Desktop\\\\CN PDFs\\\\ML DS content\\\\Project-Gradient Descent\\\\training_boston_x_y_train.csv', delimiter = \",\")\n",
    "testing_data = np.genfromtxt('C:\\\\Users\\\\KSHITIJ AGGARWAL\\\\Desktop\\\\CN PDFs\\\\ML DS content\\\\Project-Gradient Descent\\\\test_boston_x_test.csv', delimiter = \",\")\n",
    "\n",
    "x_train = training_data[:, 0:13]\n",
    "y_train = training_data[:, 13:14]\n",
    "xgr = xgb.XGBRegressor(onjective = \"reg:linear\", n_estimators = 265, seed = 123, max_depth = 4)\n",
    "xgr.fit(x_train, y_train)\n",
    "y_pred = xgr.predict(testing_data)\n",
    "np.savetxt(\"Booster_Boston_file.csv\", y_pred, fmt = \"%1.5f\")"
   ]
  }
 ],
 "metadata": {
  "kernelspec": {
   "display_name": "Python 3",
   "language": "python",
   "name": "python3"
  },
  "language_info": {
   "codemirror_mode": {
    "name": "ipython",
    "version": 3
   },
   "file_extension": ".py",
   "mimetype": "text/x-python",
   "name": "python",
   "nbconvert_exporter": "python",
   "pygments_lexer": "ipython3",
   "version": "3.7.1"
  }
 },
 "nbformat": 4,
 "nbformat_minor": 4
}
