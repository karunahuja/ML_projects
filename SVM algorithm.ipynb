{
 "cells": [
  {
   "cell_type": "code",
   "execution_count": null,
   "metadata": {},
   "outputs": [],
   "source": [
    "from sklearn.cluster import KMeans\n",
    "import numpy as np\n",
    "X = np.array([[1, 2], [1, 4], [1, 0], [2,0], [2,1],\n",
    "               [4, 2], [4, 4], [4, 0], [5,0], [5,1]])\n",
    "Y= np.array([[0]])\n",
    "print(X)\n",
    "kmeans = KMeans(n_clusters=2,random_state=0).fit(X,Y)\n",
    "kmeans.labels_\n",
    "\n"
   ]
  },
  {
   "cell_type": "code",
   "execution_count": 147,
   "metadata": {},
   "outputs": [
    {
     "name": "stdout",
     "output_type": "stream",
     "text": [
      "345.0 485.0 715.0 715.0 740.0 700.0 610.0 495.0 395.0 330.0 315.0 430.0 545.0 635.0 715.0 750.0 735.0 670.0 565.0 435.0 315.0 225.0 200.0 260.0\n"
     ]
    },
    {
     "data": {
      "text/plain": [
       "'\\nx=[]\\nx=T_S()\\nt=np.array(x)\\nprint(x)\\nlist1=[]\\nlist1.append(x)\\nprint(list1)\\n'"
      ]
     },
     "execution_count": 147,
     "metadata": {},
     "output_type": "execute_result"
    }
   ],
   "source": [
    "import ogr\n",
    "import random\n",
    "from osgeo import gdal\n",
    "import glob\n",
    "import os\n",
    "import gdal\n",
    "import numpy as np\n",
    "import matplotlib.pyplot as plt\n",
    "from scipy import stats\n",
    "from scipy.ndimage import gaussian_filter1d\n",
    "from scipy import signal\n",
    "\n",
    "driver = gdal.GetDriverByName('GTiff')\n",
    "filename = r\"C:\\Users\\Tarun Ahuja\\Downloads\\final_mask.tif\" #path to raster\n",
    "dataset = gdal.Open(filename)\n",
    "band = dataset.GetRasterBand(1)\n",
    "cols = dataset.RasterXSize\n",
    "rows = dataset.RasterYSize\n",
    "transform = dataset.GetGeoTransform()\n",
    "xOrigin = transform[0]\n",
    "yOrigin = transform[3]\n",
    "pixelWidth = transform[1]\n",
    "pixelHeight =-transform[5]\n",
    "datamask = band.ReadAsArray(0, 0, cols, rows)\n",
    "\n",
    "gimms_folder = r'C:\\Users\\Tarun Ahuja\\Downloads\\2013-14\\2013-14'\n",
    "gimms_files = sorted(glob.glob(gimms_folder+'/*.tif'))\n",
    "num = len(gimms_files)\n",
    "m=[]\n",
    "y=[]\n",
    "a=[]\n",
    "for z in range(1400):\n",
    "    with open(r'outputs.txt', 'r') as myfile:\n",
    "        data = myfile.readlines()\n",
    "    #print(data[z])\n",
    "    ndvi=[]\n",
    "    j=[]\n",
    "    \n",
    "    t=data[z].split()\n",
    "    lats=float(t[0])\n",
    "    long=float(t[1])\n",
    "    crops=float(t[2])\n",
    "    points_list=[(lats,long)]\n",
    "    for point in points_list:\n",
    "        col = int((point[1] - xOrigin) / pixelWidth)\n",
    "        row = int((yOrigin - point[0] ) / pixelHeight)\n",
    "    #print(row,col, datamask[row][col])\n",
    "  \n",
    "    y.append([int(crops)])\n",
    "    b = 0\n",
    "    for eachfile in gimms_files:\n",
    "        ds = gdal.Open(eachfile)\n",
    "        band = ds.GetRasterBand(1)\n",
    "        NoDataValue = band.GetNoDataValue()\n",
    "        \n",
    "        ndvi.extend(*band.ReadAsArray(row,col,1,1))\n",
    "        j.append(ndvi)\n",
    "        #m.append(ndvi)\n",
    "        b+=1\n",
    "    #t=np.array(ndvi)\n",
    "    ndvi = np.array(ndvi)\n",
    "    a.insert(z,ndvi)\n",
    "print(*a[1])\n",
    "#print(y)\n",
    "'''\n",
    "x=[]\n",
    "x=T_S()\n",
    "t=np.array(x)\n",
    "print(x)\n",
    "list1=[]\n",
    "list1.append(x)\n",
    "print(list1)\n",
    "'''"
   ]
  },
  {
   "cell_type": "code",
   "execution_count": 148,
   "metadata": {},
   "outputs": [
    {
     "name": "stdout",
     "output_type": "stream",
     "text": [
      "[465. 595. 675. 730. 715. 660. 590. 510. 435. 390. 390. 530. 675. 775.\n",
      " 845. 860. 810. 705. 565. 420. 305. 240. 235. 300.]\n",
      "[[  2]\n",
      " [  2]\n",
      " [  2]\n",
      " ...\n",
      " [  2]\n",
      " [-99]\n",
      " [  2]]\n"
     ]
    }
   ],
   "source": [
    "print(a[0],sep=\", \")\n",
    "#j=np.array(a)\n",
    "s=np.array(a)\n",
    "\n",
    "print(np.array(y))"
   ]
  },
  {
   "cell_type": "code",
   "execution_count": 15,
   "metadata": {},
   "outputs": [
    {
     "data": {
      "text/plain": [
       "array([0])"
      ]
     },
     "execution_count": 15,
     "metadata": {},
     "output_type": "execute_result"
    }
   ],
   "source": [
    "from sklearn.cluster import KMeans\n",
    "import numpy as np\n",
    "X = s\n",
    "Y= np.array(y)\n",
    "\n",
    "kmeans = KMeans(n_clusters=4,random_state=1).fit(X,Y)\n",
    "# kmeans.labels_\n",
    "kmeans.predict([[345.0, 485.0, 715.0, 715.0, 740.0, 700.0, 610.0, 495.0, 395.0 ,330.0, 315.0, 430.0, 545.0, 635.0, 715.0, 750.0 ,735.0, 670.0, 565.0, 435.0, 315.0, 225.0 ,200.0, 260.0,\n",
    "]])"
   ]
  },
  {
   "cell_type": "code",
   "execution_count": 222,
   "metadata": {},
   "outputs": [
    {
     "data": {
      "text/plain": [
       "array([0, 0, 2, 3, 3, 0, 1, 1, 0, 0, 0, 3, 1, 2, 2, 0, 1, 0, 2, 2, 0, 0,\n",
       "       3, 0, 1, 1, 1, 0, 0, 3, 3, 3, 1, 1, 0, 2, 3, 3, 0, 3, 2, 1, 1, 1,\n",
       "       1, 1, 3, 0, 2, 0, 1, 1, 3, 1, 2, 1, 3, 0, 1, 3, 2, 1, 2, 0, 0, 0,\n",
       "       0, 0, 1, 3, 0, 0, 2, 2, 0, 0, 0, 0, 0, 0, 0, 1, 0, 1, 0, 0, 0, 0,\n",
       "       0, 1, 2, 0, 0, 0, 2, 3, 1, 0, 0, 3, 0, 3, 2, 3, 3, 1, 3, 1, 0, 1,\n",
       "       0, 0, 3, 0, 1, 0, 0, 0, 3, 0, 3, 0, 1, 0, 1, 1, 1, 0, 3, 2, 0, 0,\n",
       "       3, 0, 0, 0, 0, 2, 2, 2, 3, 1, 1, 0, 2, 2, 1, 1, 2, 2, 2, 3, 0, 2,\n",
       "       3, 0, 0, 3, 3, 1, 1, 1, 2, 2, 2, 1, 3, 0, 0, 3, 0, 3, 3, 1, 2, 1,\n",
       "       0, 3, 0, 3, 0, 3, 3, 1, 0, 2, 1, 1, 3, 1, 3, 1, 3, 1, 3, 0, 1, 1,\n",
       "       1, 2, 2, 2, 3, 3, 0, 1, 1, 3, 3, 2, 0, 3, 0, 3, 0, 0, 0, 0, 0, 0,\n",
       "       0, 2, 0, 0, 3, 0, 2, 3, 3, 0, 1, 0, 2, 1, 2, 1, 0, 1, 0, 0, 2, 3,\n",
       "       3, 3, 3, 1, 1, 2, 3, 0, 0, 0, 2, 2, 0, 1, 2, 3, 0, 2, 3, 3, 0, 0,\n",
       "       0, 1, 0, 0, 2, 2, 1, 0, 2, 0, 1, 1, 0, 1, 0, 2, 3, 0, 3, 0, 0, 0,\n",
       "       0, 0, 1, 1, 0, 0, 2, 0, 0, 2, 3, 3, 2, 0, 3, 1, 3, 0, 2, 2, 0, 1,\n",
       "       3, 0, 2, 1, 1, 0, 2, 3, 3, 1, 0, 0, 2, 0, 3, 0, 0, 2, 0, 0, 3, 2,\n",
       "       0, 1, 1, 2, 2, 2, 2, 2, 0, 3, 2, 1, 0, 0, 2, 1, 1, 3, 0, 0, 0, 0,\n",
       "       3, 1, 0, 0, 2, 0, 3, 3, 0, 1, 0, 2, 2, 0, 3, 2, 1, 2, 2, 3, 3, 0,\n",
       "       2, 2, 0, 3, 1, 0, 3, 0, 1, 3, 0, 0, 2, 0, 3, 0, 3, 3, 0, 0, 0, 2,\n",
       "       3, 0, 3, 3, 0, 0, 0, 2, 0, 1, 3, 1, 3, 3, 3, 0, 0, 0, 3, 3, 0, 0,\n",
       "       1, 2, 1, 1, 3, 2, 3, 3, 1, 0, 2, 1, 0, 0, 2, 0, 2, 3, 2, 2, 0, 2,\n",
       "       0, 1, 0, 1, 0, 1, 3, 3, 3, 0, 1, 0, 3, 0, 2, 3, 0, 0, 0, 0, 0, 0,\n",
       "       0, 1, 0, 0, 2, 0, 1, 0, 0, 0, 0, 1, 1, 2, 2, 3, 0, 3, 0, 2, 3, 1,\n",
       "       0, 0, 2, 0, 1, 0, 2, 2, 1, 0, 0, 0, 0, 0, 0, 0, 3, 3, 0, 2, 0, 2,\n",
       "       3, 0, 0, 3, 2, 3, 0, 0, 3, 1, 0, 3, 1, 2, 0, 1, 0, 0, 1, 3, 0, 2,\n",
       "       2, 0, 2, 0, 1, 0, 0, 2, 1, 0, 3, 2, 1, 3, 0, 0, 1, 3, 3, 2, 2, 0,\n",
       "       0, 0, 2, 1, 0, 0, 1, 0, 0, 0, 0, 0, 2, 2, 2, 0, 2, 0, 2, 0, 2, 3,\n",
       "       0, 3, 2, 3, 0, 1, 1, 2, 3, 0, 1, 3, 1, 1, 3, 3, 1, 1, 2, 0, 3, 2,\n",
       "       0, 3, 0, 0, 3, 0, 3, 0, 1, 0, 3, 0, 1, 3, 2, 1, 0, 0, 0, 3, 1, 3,\n",
       "       2, 1, 2, 0, 3, 0, 0, 2, 1, 0, 0, 0, 0, 0, 0, 0, 3, 0, 1, 1, 0, 0,\n",
       "       0, 1, 1, 0, 2, 3, 0, 0, 0, 1, 0, 2, 0, 0, 0, 0, 3, 0, 0, 2, 0, 3,\n",
       "       0, 3, 0, 2, 0, 3, 0, 0, 1, 0, 2, 3, 0, 0, 3, 3, 0, 2, 3, 0, 2, 0,\n",
       "       0, 0, 0, 3, 2, 0, 0, 1, 3, 0, 3, 0, 0, 0, 1, 3, 0, 2, 0, 0, 2, 1,\n",
       "       1, 2, 0, 1, 3, 1, 3, 0, 3, 0, 2, 1, 2, 1, 1, 1, 0, 3, 1, 0, 1, 0,\n",
       "       2, 0, 0, 0, 3, 0, 0, 3, 3, 3, 1, 2, 0, 3, 2, 1, 2, 3, 2, 0, 0, 2,\n",
       "       0, 0, 2, 3, 1, 0, 3, 1, 3, 1, 0, 0, 3, 3, 0, 2, 0, 1, 0, 2, 0, 0,\n",
       "       0, 1, 3, 3, 0, 0, 1, 1, 0, 1, 3, 2, 3, 0, 1, 0, 3, 3, 0, 1, 1, 2,\n",
       "       0, 0, 2, 0, 3, 1, 0, 2, 3, 3, 2, 0, 0, 3, 3, 0, 1, 2, 2, 0, 1, 3,\n",
       "       0, 3, 0, 0, 0, 1, 0, 1, 2, 1, 0, 0, 0, 2, 0, 0, 3, 1, 3, 1, 1, 3,\n",
       "       0, 3, 0, 2, 3, 0, 0, 0, 0, 3, 0, 1, 1, 2, 0, 0, 1, 0, 0, 2, 3, 0,\n",
       "       0, 2, 1, 2, 2, 1, 0, 0, 2, 0, 2, 1, 0, 2, 0, 0, 1, 1, 0, 3, 3, 0,\n",
       "       0, 1, 2, 3, 3, 2, 1, 3, 2, 1, 3, 0, 3, 2, 3, 1, 0, 0, 1, 3, 0, 0,\n",
       "       0, 0, 2, 3, 3, 0, 2, 3, 0, 0, 2, 3, 0, 0, 1, 0, 0, 3, 3, 0, 0, 3,\n",
       "       2, 0, 0, 1, 2, 0, 3, 3, 2, 1, 0, 2, 0, 1, 2, 0, 2, 2, 1, 0, 0, 0,\n",
       "       3, 3, 2, 3, 3, 2, 0, 0, 0, 0, 0, 0, 3, 0, 1, 1, 3, 3, 1, 0, 0, 1,\n",
       "       2, 3, 0, 1, 2, 2, 3, 1, 2, 1, 1, 0, 0, 0, 0, 0, 3, 3, 0, 0, 1, 1,\n",
       "       2, 0, 0, 3, 0, 3, 3, 3, 3])"
      ]
     },
     "execution_count": 222,
     "metadata": {},
     "output_type": "execute_result"
    }
   ],
   "source": [
    "kmeans.labels_[1:1000]"
   ]
  },
  {
   "cell_type": "code",
   "execution_count": 223,
   "metadata": {},
   "outputs": [
    {
     "data": {
      "text/plain": [
       "array([[ 4.1195691e+02,  5.4711206e+02,  7.3689423e+02,  7.3803064e+02,\n",
       "         7.4303497e+02,  6.8537512e+02,  5.8760199e+02,  4.8401941e+02,\n",
       "         4.0922748e+02,  3.8682516e+02,  4.2325818e+02,  5.5283203e+02,\n",
       "         6.8233228e+02,  7.5329388e+02,  7.8916003e+02,  7.8146143e+02,\n",
       "         7.4352594e+02,  6.7960645e+02,  5.9184113e+02,  4.7773450e+02,\n",
       "         3.6432452e+02,  2.7137030e+02,  2.3107182e+02,  2.6764630e+02],\n",
       "       [ 2.0619299e+02,  2.1645956e+02,  3.9149756e+02,  3.8835013e+02,\n",
       "         3.9903583e+02,  3.4949200e+02,  3.2213177e+02,  2.8753799e+02,\n",
       "         2.4733492e+02,  2.5242380e+02,  2.4961935e+02,  2.4880753e+02,\n",
       "         2.4797015e+02,  2.4946690e+02,  2.4170103e+02,  2.5228345e+02,\n",
       "         2.4880753e+02,  2.3180180e+02,  2.0696712e+02,  2.0140839e+02,\n",
       "         2.0546959e+02,  1.9786806e+02,  1.9963187e+02,  2.0703040e+02],\n",
       "       [-6.5612793e-04,  1.0070801e-03,  6.1035156e-05,  1.2817383e-03,\n",
       "        -9.4604492e-04, -1.4343262e-03,  5.4931641e-04,  1.7700195e-03,\n",
       "        -1.0375977e-03,  1.2512207e-03, -7.6293945e-04,  6.4086914e-04,\n",
       "        -1.3122559e-03,  2.4719238e-03,  1.7700195e-03,  5.7983398e-04,\n",
       "        -3.9672852e-04,  1.6174316e-03, -8.5449219e-04, -1.4343262e-03,\n",
       "         5.3405762e-04, -1.0833740e-03,  8.6975098e-04,  2.4414062e-04],\n",
       "       [ 2.5118071e+02,  3.4974698e+02,  5.6866272e+02,  5.6643359e+02,\n",
       "         6.1380719e+02,  5.9309558e+02,  5.1518109e+02,  4.1650583e+02,\n",
       "         3.3542181e+02,  3.0734930e+02,  3.4208411e+02,  4.4519299e+02,\n",
       "         5.4832581e+02,  6.2836133e+02,  6.7298767e+02,  6.6675903e+02,\n",
       "         6.1314417e+02,  5.2996332e+02,  4.3531335e+02,  3.4425302e+02,\n",
       "         2.7333740e+02,  2.2355428e+02,  2.0228903e+02,  2.2244591e+02]],\n",
       "      dtype=float32)"
      ]
     },
     "execution_count": 223,
     "metadata": {},
     "output_type": "execute_result"
    }
   ],
   "source": [
    "kmeans.cluster_centers_\n"
   ]
  },
  {
   "cell_type": "code",
   "execution_count": 146,
   "metadata": {},
   "outputs": [
    {
     "name": "stdout",
     "output_type": "stream",
     "text": [
      "190.0 220.0 365.0 380.0 395.0 325.0 275.0 270.0 235.0 265.0 235.0 220.0 210.0 210.0 200.0 210.0 205.0 180.0 180.0 195.0 175.0 170.0 180.0 180.0\n"
     ]
    }
   ],
   "source": [
    "yt=[]\n",
    "at=[]\n",
    "\n",
    "for zt in range(1401,2007):\n",
    "    with open(r'outputs.txt', 'r') as myfile:\n",
    "        data = myfile.readlines()\n",
    "    #print(data[z])\n",
    "    ndvit=[]\n",
    "    jt=[]\n",
    "    \n",
    "    tt=data[zt].split()\n",
    "    latst=float(tt[0])\n",
    "    longt=float(tt[1])\n",
    "    cropst=float(tt[2])\n",
    "    points_listt=[(latst,longt)]\n",
    "    for pointt in points_listt:\n",
    "        colt = int((pointt[1] - xOrigin) / pixelWidth)\n",
    "        rowt = int((yOrigin - pointt[0] ) / pixelHeight)\n",
    "    #print(row,col, datamask[row][col])\n",
    "  \n",
    "    yt.append([int(cropst)])\n",
    "    bt = 0\n",
    "    for eachfilet in gimms_files:\n",
    "        dst = gdal.Open(eachfilet)\n",
    "        bandt = dst.GetRasterBand(1)\n",
    "        NoDataValuet = bandt.GetNoDataValue()\n",
    "        \n",
    "        ndvit.extend(*bandt.ReadAsArray(rowt,colt,1,1))\n",
    "        jt.append(ndvit)\n",
    "        #m.append(ndvi)\n",
    "        bt+=1\n",
    "    #t=np.array(ndvi)\n",
    "    ndvit = np.array(ndvit)\n",
    "    at.insert(zt,ndvit)\n",
    "print(*at[1])\n"
   ]
  },
  {
   "cell_type": "code",
   "execution_count": 149,
   "metadata": {},
   "outputs": [
    {
     "name": "stderr",
     "output_type": "stream",
     "text": [
      "C:\\Users\\Tarun Ahuja\\Anaconda3\\lib\\site-packages\\sklearn\\utils\\validation.py:761: DataConversionWarning: A column-vector y was passed when a 1d array was expected. Please change the shape of y to (n_samples, ), for example using ravel().\n",
      "  y = column_or_1d(y, warn=True)\n"
     ]
    },
    {
     "data": {
      "text/plain": [
       "0.7937293729372937"
      ]
     },
     "execution_count": 149,
     "metadata": {},
     "output_type": "execute_result"
    }
   ],
   "source": [
    "from sklearn import svm\n",
    "M=np.array(at)\n",
    "N=np.array(yt)\n",
    "\n",
    "X = s\n",
    "Y = np.array(y)\n",
    "clf = svm.SVC(gamma='auto')\n",
    "clf.fit(X, Y)\n",
    "clf.score(M,N)\n"
   ]
  },
  {
   "cell_type": "code",
   "execution_count": 120,
   "metadata": {},
   "outputs": [
    {
     "name": "stdout",
     "output_type": "stream",
     "text": [
      "200.0 170.0 315.0 315.0 355.0 275.0 290.0 270.0 235.0 250.0 220.0 220.0 215.0 215.0 195.0 200.0 190.0 195.0 175.0 190.0 180.0 180.0 200.0 235.0\n"
     ]
    }
   ],
   "source": [
    "print(*at[0])"
   ]
  }
 ],
 "metadata": {
  "kernelspec": {
   "display_name": "Python 3",
   "language": "python",
   "name": "python3"
  },
  "language_info": {
   "codemirror_mode": {
    "name": "ipython",
    "version": 3
   },
   "file_extension": ".py",
   "mimetype": "text/x-python",
   "name": "python",
   "nbconvert_exporter": "python",
   "pygments_lexer": "ipython3",
   "version": "3.7.1"
  }
 },
 "nbformat": 4,
 "nbformat_minor": 2
}
