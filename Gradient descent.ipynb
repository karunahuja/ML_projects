{
 "cells": [
  {
   "cell_type": "code",
   "execution_count": 9,
   "metadata": {},
   "outputs": [
    {
     "name": "stdout",
     "output_type": "stream",
     "text": [
      "cost: 1484.5865574086486\n",
      "cost: 457.8542575737672\n",
      "cost: 199.5099857255389\n",
      "cost: 134.50591058200533\n",
      "cost: 118.1496934223995\n",
      "cost: 114.0341490603815\n",
      "cost: 112.99857731713657\n",
      "cost: 112.73798187568467\n",
      "cost: 112.6723843590911\n",
      "cost: 112.65585181499745\n",
      "cost: 112.65166489759581\n",
      "cost: 112.6505843615011\n",
      "cost: 112.65028544701502\n",
      "cost: 112.65018320293967\n",
      "cost: 112.650130445072\n",
      "cost: 112.65009013922885\n",
      "cost: 112.6500529669463\n",
      "cost: 112.65001658353178\n",
      "cost: 112.64998039901865\n",
      "cost: 112.64994426496071\n",
      "cost: 112.64990814400622\n",
      "cost: 112.64987202675677\n",
      "cost: 112.64983591084761\n",
      "cost: 112.64979979568368\n",
      "cost: 112.64976368111523\n",
      "cost: 112.64972756710469\n",
      "cost: 112.64969145364236\n",
      "cost: 112.64965534072611\n",
      "cost: 112.64961922835512\n",
      "cost: 112.64958311652944\n",
      "cost: 112.64954700524868\n",
      "cost: 112.64951089451318\n",
      "cost: 112.64947478432279\n",
      "cost: 112.64943867467744\n",
      "cost: 112.64940256557728\n",
      "cost: 112.64936645702221\n",
      "cost: 112.64933034901203\n",
      "cost: 112.64929424154704\n",
      "cost: 112.64925813462712\n",
      "cost: 112.6492220282522\n",
      "cost: 112.64918592242235\n",
      "cost: 112.64914981713754\n",
      "cost: 112.64911371239779\n",
      "cost: 112.64907760820296\n",
      "cost: 112.64904150455324\n",
      "cost: 112.64900540144845\n",
      "cost: 112.64896929888867\n",
      "cost: 112.64893319687388\n",
      "cost: 112.6488970954041\n",
      "cost: 112.64886099447922\n",
      "cost: 112.64882489409929\n",
      "cost: 112.64878879426433\n",
      "cost: 112.64875269497436\n",
      "cost: 112.64871659622933\n",
      "cost: 112.64868049802914\n",
      "cost: 112.648644400374\n",
      "cost: 112.64860830326366\n",
      "cost: 112.64857220669828\n",
      "cost: 112.64853611067772\n",
      "cost: 112.64850001520212\n",
      "cost: 112.64846392027131\n",
      "cost: 112.64842782588545\n",
      "cost: 112.64839173204442\n",
      "cost: 112.6483556387483\n",
      "cost: 112.64831954599697\n",
      "cost: 112.64828345379043\n",
      "cost: 112.64824736212877\n",
      "cost: 112.64821127101193\n",
      "cost: 112.64817518043986\n",
      "cost: 112.64813909041264\n",
      "cost: 112.64810300093015\n",
      "cost: 112.64806691199259\n",
      "cost: 112.64803082359971\n",
      "cost: 112.64799473575155\n",
      "cost: 112.64795864844827\n",
      "cost: 112.64792256168963\n",
      "cost: 112.64788647547579\n",
      "cost: 112.64785038980668\n",
      "cost: 112.64781430468226\n",
      "cost: 112.64777822010265\n",
      "cost: 112.6477421360677\n",
      "cost: 112.64770605257743\n",
      "cost: 112.64766996963193\n",
      "cost: 112.64763388723107\n",
      "cost: 112.64759780537483\n",
      "cost: 112.64756172406335\n",
      "cost: 112.6475256432965\n",
      "cost: 112.64748956307432\n",
      "cost: 112.64745348339677\n",
      "cost: 112.64741740426388\n",
      "cost: 112.6473813256756\n",
      "cost: 112.64734524763193\n",
      "cost: 112.64730917013293\n",
      "cost: 112.6472730931785\n",
      "cost: 112.64723701676861\n",
      "cost: 112.64720094090339\n",
      "cost: 112.64716486558265\n",
      "cost: 112.64712879080662\n",
      "cost: 112.64709271657513\n",
      "cost: 112.64705664288809\n",
      "1.4788027175308358 0.035074970592341756\n"
     ]
    }
   ],
   "source": [
    "#for one feature\n",
    "import numpy as np\n",
    "def step_gradient(points,learning_rate,m,c):\n",
    "    m_slope=0\n",
    "    c_slope=0\n",
    "    M=len(points)\n",
    "    for i in range(M):\n",
    "        x=points[i,0]\n",
    "        y=points[i,1]\n",
    "        m_slope+=(-2/M)*(y-m*x-c)*x\n",
    "        c_slope+=(-2/M)*(y-m*x-c)\n",
    "    new_m=m-learning_rate*m_slope\n",
    "    new_c=c-learning_rate*c_slope\n",
    "    return new_m,new_c\n",
    "    \n",
    "def cost(points,m,c):\n",
    "    total_cost=0\n",
    "    M=len(points)\n",
    "    for i in range(M):\n",
    "        x=points[i,0]\n",
    "        y=points[i,1]\n",
    "        total_cost+=(1/M)*((y-m*x-c)**2)\n",
    "    return total_cost\n",
    "def gd(points,learning_rate,num_iterations):\n",
    "    m=0\n",
    "    c=0\n",
    "    for i in range(num_iterations):\n",
    "        m,c=step_gradient(points,learning_rate,m,c)\n",
    "        print(\"cost:\",cost(points,m,c))\n",
    "    return m,c\n",
    "def run():\n",
    "    data=np.loadtxt(\"C:/Users/Tarun Ahuja/Downloads/0000000000000836/data.csv\",delimiter=\",\")\n",
    "    learning_rate=0.0001\n",
    "    num_iterations=100\n",
    "    m,c=gd(data,learning_rate,num_iterations)\n",
    "    print(m,c)\n",
    "    \n",
    "run()"
   ]
  },
  {
   "cell_type": "code",
   "execution_count": 16,
   "metadata": {},
   "outputs": [
    {
     "data": {
      "text/html": [
       "<div>\n",
       "<style scoped>\n",
       "    .dataframe tbody tr th:only-of-type {\n",
       "        vertical-align: middle;\n",
       "    }\n",
       "\n",
       "    .dataframe tbody tr th {\n",
       "        vertical-align: top;\n",
       "    }\n",
       "\n",
       "    .dataframe thead th {\n",
       "        text-align: right;\n",
       "    }\n",
       "</style>\n",
       "<table border=\"1\" class=\"dataframe\">\n",
       "  <thead>\n",
       "    <tr style=\"text-align: right;\">\n",
       "      <th></th>\n",
       "      <th>s1</th>\n",
       "    </tr>\n",
       "  </thead>\n",
       "  <tbody>\n",
       "    <tr>\n",
       "      <th>0</th>\n",
       "      <td>0.333333</td>\n",
       "    </tr>\n",
       "    <tr>\n",
       "      <th>1</th>\n",
       "      <td>0.000000</td>\n",
       "    </tr>\n",
       "    <tr>\n",
       "      <th>2</th>\n",
       "      <td>0.666667</td>\n",
       "    </tr>\n",
       "    <tr>\n",
       "      <th>3</th>\n",
       "      <td>1.000000</td>\n",
       "    </tr>\n",
       "    <tr>\n",
       "      <th>4</th>\n",
       "      <td>0.333333</td>\n",
       "    </tr>\n",
       "  </tbody>\n",
       "</table>\n",
       "</div>"
      ],
      "text/plain": [
       "         s1\n",
       "0  0.333333\n",
       "1  0.000000\n",
       "2  0.666667\n",
       "3  1.000000\n",
       "4  0.333333"
      ]
     },
     "execution_count": 16,
     "metadata": {},
     "output_type": "execute_result"
    }
   ],
   "source": [
    "import pandas as pd\n",
    "\n",
    "s1 = pd.Series([40,10,70,100,40], index=(range(5)))\n",
    "s2 = pd.Series([10, 9, 8, 7, 6, 5], index=(range(6)))\n",
    "df = pd.DataFrame(s1, columns=['s1'])\n",
    "df['s2'] = s2\n",
    "df\n",
    "\n",
    "from mlxtend.preprocessing import minmax_scaling\n",
    "\n",
    "minmax_scaling(df, columns=['s1'])"
   ]
  },
  {
   "cell_type": "code",
   "execution_count": 20,
   "metadata": {},
   "outputs": [],
   "source": [
    "from sklearn import preprocessing\n",
    "x=np.array([[1.,-1.,2.],\n",
    "            [2.,0.,0.],\n",
    "            [0.,1.,-1.]])\n",
    "x_scaled=preprocessing.scale(x)"
   ]
  },
  {
   "cell_type": "code",
   "execution_count": 22,
   "metadata": {},
   "outputs": [
    {
     "data": {
      "text/plain": [
       "array([0., 0., 0.])"
      ]
     },
     "execution_count": 22,
     "metadata": {},
     "output_type": "execute_result"
    }
   ],
   "source": [
    "x_scaled.mean(axis=0)"
   ]
  },
  {
   "cell_type": "code",
   "execution_count": 24,
   "metadata": {},
   "outputs": [
    {
     "data": {
      "text/plain": [
       "array([1., 1., 1.])"
      ]
     },
     "execution_count": 24,
     "metadata": {},
     "output_type": "execute_result"
    }
   ],
   "source": [
    "x_scaled.std(axis=0)"
   ]
  },
  {
   "cell_type": "code",
   "execution_count": 26,
   "metadata": {},
   "outputs": [
    {
     "data": {
      "text/plain": [
       "array([[ 0.        , -1.22474487,  1.33630621],\n",
       "       [ 1.22474487,  0.        , -0.26726124],\n",
       "       [-1.22474487,  1.22474487, -1.06904497]])"
      ]
     },
     "execution_count": 26,
     "metadata": {},
     "output_type": "execute_result"
    }
   ],
   "source": [
    "x_scaled"
   ]
  },
  {
   "cell_type": "code",
   "execution_count": 28,
   "metadata": {},
   "outputs": [
    {
     "data": {
      "text/plain": [
       "array([[ 0.        , -1.22474487,  1.33630621],\n",
       "       [ 1.22474487,  0.        , -0.26726124],\n",
       "       [-1.22474487,  1.22474487, -1.06904497]])"
      ]
     },
     "execution_count": 28,
     "metadata": {},
     "output_type": "execute_result"
    }
   ],
   "source": [
    "scaler=preprocessing.StandardScaler()\n",
    "scaler.fit(x)\n",
    "\n",
    "scaler.transform(x)"
   ]
  },
  {
   "cell_type": "code",
   "execution_count": 30,
   "metadata": {},
   "outputs": [
    {
     "data": {
      "text/plain": [
       "array([[ 0.        ,  1.22474487, -0.26726124]])"
      ]
     },
     "execution_count": 30,
     "metadata": {},
     "output_type": "execute_result"
    }
   ],
   "source": [
    "x_test=[[1,1,0]]\n",
    "scaler.transform(x_test)"
   ]
  },
  {
   "cell_type": "code",
   "execution_count": 81,
   "metadata": {},
   "outputs": [
    {
     "name": "stdout",
     "output_type": "stream",
     "text": [
      "0 Cost=  511.5632190154138\n",
      "100 Cost=  24.93502807474201\n",
      "200 Cost=  24.11394239655515\n",
      "300 Cost=  23.87992887167038\n",
      "400 Cost=  23.782580145193783\n",
      "500 Cost=  23.730397060623677\n",
      "600 Cost=  23.697983386913787\n",
      "700 Cost=  23.676188960997706\n",
      "800 Cost=  23.660860460135563\n",
      "900 Cost=  23.649765760196107\n",
      "999 Cost=  23.641640754710117\n",
      "[-1.04831141  0.61114343 -0.51210121  0.68196129 -1.89781988  2.48129984\n",
      " -0.10277248 -2.90155579  2.07722064 -1.20863008 -2.05762568  0.59499583\n",
      " -4.00869049 11.32401544 11.32401544]\n"
     ]
    }
   ],
   "source": [
    "import numpy as np\n",
    "def step_grad(points, learn_rate, M):\n",
    "    N = points.shape[0]\n",
    "    num_col = points.shape[1]\n",
    "    \n",
    "    new_M = np.zeros(num_col)\n",
    "    \n",
    "    for i in range(N):\n",
    "        x = points[i, 0:num_col-1]\n",
    "        x = np.append(x, 1)\n",
    "        y = points[i, num_col-1]\n",
    "        for j in range(num_col):\n",
    "            new_M[j] += (-2/N) * (y - (M * x).sum()) * x[j]\n",
    "        M = M - (learn_rate * new_M)\n",
    "    \n",
    "    return M\n",
    "def gd(points, learn_rate, num_iter):\n",
    "    num_col = points.shape[1]\n",
    "    M = np.zeros(num_col)\n",
    "    \n",
    "    for i in range(num_iter):\n",
    "        M = step_grad(points, learn_rate, M)\n",
    "        if i % 100== 0:\n",
    "            print(i, \"Cost= \", cost(points, M))\n",
    "    print(i, \"Cost= \", cost(points, M))\n",
    "    return M\n",
    "\n",
    "def cost(points, M):\n",
    "    total_cost = 0\n",
    "    \n",
    "    N = points.shape[0]\n",
    "    num_col = points.shape[1]\n",
    "    \n",
    "    for i in range(N):\n",
    "        x = points[i,0:num_col-1]\n",
    "        x = np.append(x, 1)\n",
    "        y = points[i,num_col-1]\n",
    "        total_cost += (y - (M * x).sum()) ** 2\n",
    "        \n",
    "    total_cost = (1/N) * total_cost\n",
    "    return total_cost\n",
    "\n",
    "def run():\n",
    "    data=np.loadtxt(\"C:/Users/Tarun Ahuja/Downloads/0000000000002417_training_boston_x_y_train (1).csv\",delimiter=\",\")\n",
    "    r=np.ones(len(data))\n",
    "    u=data[:,13]\n",
    "    data=np.concatenate((data[:,0:13], r.reshape(len(data),1)), axis=1)\n",
    "    data=np.concatenate((data,u.reshape(379,1)),axis=1)\n",
    "    learning_rate=0.0001\n",
    "    num_iterations=1000\n",
    "    m=gd(data,learning_rate,num_iterations)\n",
    "    print(m)\n",
    "    \n",
    "run()"
   ]
  },
  {
   "cell_type": "code",
   "execution_count": 76,
   "metadata": {},
   "outputs": [
    {
     "data": {
      "text/plain": [
       "array([[-0.40784991, -0.48772236, -1.2660231 , ..., -1.09799011,\n",
       "         1.        , 37.9       ],\n",
       "       [-0.40737368, -0.48772236,  0.24705682, ..., -0.52047412,\n",
       "         1.        , 21.4       ],\n",
       "       [ 0.1251786 , -0.48772236,  1.01599907, ...,  0.89107588,\n",
       "         1.        , 12.7       ],\n",
       "       ...,\n",
       "       [-0.40831101, -0.48772236,  0.24705682, ..., -0.33404299,\n",
       "         1.        , 20.8       ],\n",
       "       [-0.41061997, -0.48772236, -1.15221381, ..., -0.74475218,\n",
       "         1.        , 22.6       ],\n",
       "       [ 0.34290895, -0.48772236,  1.01599907, ..., -1.35871335,\n",
       "         1.        , 50.        ]])"
      ]
     },
     "execution_count": 76,
     "metadata": {},
     "output_type": "execute_result"
    }
   ],
   "source": [
    "data=np.loadtxt(\"C:/Users/Tarun Ahuja/Downloads/0000000000002417_training_boston_x_y_train (1).csv\",delimiter=\",\")\n",
    "\n",
    "r=np.ones(len(data))\n",
    "u=data[:,13]\n",
    "data=np.concatenate((data[:,0:13], r.reshape(len(data),1)), axis=1)\n",
    "data=np.concatenate((data,u.reshape(379,1)),axis=1)\n",
    "data"
   ]
  }
 ],
 "metadata": {
  "kernelspec": {
   "display_name": "Python 3",
   "language": "python",
   "name": "python3"
  },
  "language_info": {
   "codemirror_mode": {
    "name": "ipython",
    "version": 3
   },
   "file_extension": ".py",
   "mimetype": "text/x-python",
   "name": "python",
   "nbconvert_exporter": "python",
   "pygments_lexer": "ipython3",
   "version": "3.7.1"
  }
 },
 "nbformat": 4,
 "nbformat_minor": 2
}
